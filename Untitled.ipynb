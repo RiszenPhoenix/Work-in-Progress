{
 "cells": [
  {
   "cell_type": "code",
   "execution_count": null,
   "id": "51a9c602-388e-43df-b30e-d6f9ddcaa4c0",
   "metadata": {},
   "outputs": [],
   "source": [
    "#import seaborn as sns"
   ]
  },
  {
   "cell_type": "code",
   "execution_count": null,
   "id": "dfe62fc1-5921-4c43-9de7-79fdcb11d266",
   "metadata": {
    "scrolled": true
   },
   "outputs": [],
   "source": [
    "# n = sns.load_dataset('tips')\n",
    "# n"
   ]
  },
  {
   "cell_type": "code",
   "execution_count": null,
   "id": "82d0a7fd-9221-4209-87b4-1793b560dc95",
   "metadata": {},
   "outputs": [],
   "source": [
    "# cond = n.sex == 'Male'\n",
    "# cond"
   ]
  },
  {
   "cell_type": "code",
   "execution_count": null,
   "id": "55f5f76a-790f-4c20-974c-1a6d23addb9c",
   "metadata": {},
   "outputs": [],
   "source": [
    "# x= [n[total_bill] > 20.00]\n",
    "# n[n.total_bill > 20.00]"
   ]
  },
  {
   "cell_type": "code",
   "execution_count": null,
   "id": "64e87bb4-3e82-489d-913f-de3efe785e09",
   "metadata": {},
   "outputs": [],
   "source": [
    "# n[cond]"
   ]
  },
  {
   "cell_type": "code",
   "execution_count": null,
   "id": "16c40910-f2cc-4ccb-82df-f29e7cfd44ff",
   "metadata": {},
   "outputs": [],
   "source": [
    "import pandas as pd\n",
    "import numpy as np"
   ]
  },
  {
   "cell_type": "code",
   "execution_count": null,
   "id": "6e06883c-5f8f-4f8c-8780-dc487052ff90",
   "metadata": {},
   "outputs": [],
   "source": [
    "df = pd.read_csv(r'C:\\Users\\risze\\Downloads\\movies_metadata.csv').dropna(axis=1, how='all')\n",
    "df.head()"
   ]
  },
  {
   "cell_type": "code",
   "execution_count": null,
   "id": "cf1a4c4a-feb8-4d60-9251-3867f35876bd",
   "metadata": {},
   "outputs": [],
   "source": [
    "df.shape"
   ]
  },
  {
   "cell_type": "code",
   "execution_count": null,
   "id": "2044c006-0938-4c1d-a280-eaa248d455dd",
   "metadata": {},
   "outputs": [],
   "source": [
    "df.columns"
   ]
  },
  {
   "cell_type": "code",
   "execution_count": null,
   "id": "8702bf4a-42fa-47c9-a32e-7b49b7f0a9ba",
   "metadata": {},
   "outputs": [],
   "source": [
    "budget_df = df[df.budget > 1000000]\n",
    "budget_df.shape\n",
    "df2 = df"
   ]
  },
  {
   "cell_type": "code",
   "execution_count": null,
   "id": "c013fc39-520c-420a-bc51-1424d57ba012",
   "metadata": {},
   "outputs": [],
   "source": [
    "budget_lookup = pd.Series(budget_df['budget'].values, index=budget_df['title'])\n",
    "budget_lookup['Dead Presidents']"
   ]
  },
  {
   "cell_type": "code",
   "execution_count": null,
   "id": "364db61f-d520-4286-b2e2-ea4dcb8ecda2",
   "metadata": {},
   "outputs": [],
   "source": [
    "budget_lookup[budget_lookup.index.str.startswith('A')].sort_index()[[0]] "
   ]
  },
  {
   "cell_type": "code",
   "execution_count": null,
   "id": "8a4edf67-1c8c-4a90-b207-a5907f2dd8e7",
   "metadata": {},
   "outputs": [],
   "source": [
    "budget_lookup[budget_lookup.index.str.startswith('B')].sort_index()[[-1]]"
   ]
  },
  {
   "cell_type": "code",
   "execution_count": null,
   "id": "ef38255a-2639-44d1-b59e-e3c80de06d4f",
   "metadata": {},
   "outputs": [],
   "source": [
    "#budget_lookup_as_and_bs = [budget_lookup.index.str.startswith('A')]|[budget_lookup.index.str.startswith('B')]\n",
    "budget_lookup_as_and_bs = budget_lookup.loc[budget_lookup.index.str.startswith(('A', 'B'))]\n",
    "#budget_lookup_as_and_bs = budget_lookup.loc[budget_lookup[title].str.startswith(('A', 'B'))]\n",
    "#budget_lookup_as_and_bs = \n",
    "# budget_lookup_as_and_bs = df['title']\n",
    "budget_lookup_as_and_bs.shape"
   ]
  },
  {
   "cell_type": "code",
   "execution_count": null,
   "id": "b47d47b4-c06e-4345-a16f-2d7f84fe771b",
   "metadata": {},
   "outputs": [],
   "source": [
    "import pandas as pd\n",
    "df = pd.DataFrame({'a':list(\"pythonrocks\"), 'b':[1,2,3,4,5,6,7,8,9,10,11]})\n",
    "df = df.set_index('a')\n",
    "df.loc['p':'n']"
   ]
  },
  {
   "cell_type": "code",
   "execution_count": null,
   "id": "ca538c24-7b30-4d80-a943-279e6278bb29",
   "metadata": {},
   "outputs": [],
   "source": [
    "df = df.sort_index()\n",
    "df.loc['c':'o']"
   ]
  },
  {
   "cell_type": "code",
   "execution_count": null,
   "id": "cd34ef1b-fd47-447d-ad19-7eae03e84b0f",
   "metadata": {},
   "outputs": [],
   "source": [
    "import pandas as pd\n",
    "df = pd.read_csv(\"https://runestone.academy/ns/books/published/httlads/_static/movies_metadata.csv\").dropna(axis=1, how='all')\n",
    "time_scheduler = df.set_index('runtime')\n",
    "time_scheduler = time_scheduler[['title', 'release_date']]\n",
    "time_scheduler.loc[7].head()"
   ]
  },
  {
   "cell_type": "code",
   "execution_count": null,
   "id": "0682796d-d548-4a5f-abb9-dff144c8704e",
   "metadata": {},
   "outputs": [],
   "source": [
    "import pandas as pd\n",
    "df = pd.read_csv(\"https://runestone.academy/ns/books/published/httlads/_static/movies_metadata.csv\").dropna(axis=1, how='all')\n",
    "\n",
    "time_scheduler = df.set_index('runtime')\n",
    "time_scheduler = time_scheduler[['title', 'release_date']]\n",
    "time_scheduler.loc[154].shape"
   ]
  },
  {
   "cell_type": "code",
   "execution_count": 211,
   "id": "2b2f622d-bd7e-4dd6-bd6f-7aeed3335c58",
   "metadata": {},
   "outputs": [],
   "source": [
    "import pandas as pd\n",
    "df = pd.read_csv(\"https://runestone.academy/ns/books/published/httlads/_static/movies_metadata.csv\").dropna(axis=1, how='all')"
   ]
  },
  {
   "cell_type": "code",
   "execution_count": 212,
   "id": "6c57515b-6e4a-4e76-8fe8-561c73252e8c",
   "metadata": {},
   "outputs": [],
   "source": [
    "df.dropna(subset=['runtime'], inplace=True)\n",
    "df.set_index('runtime', inplace=True)\n",
    "# df.index = df.index.map(lambda x: float(x))\n",
    "df.index = df.index.astype('float64')\n",
    "df.sort_index(inplace=True)"
   ]
  },
  {
   "cell_type": "code",
   "execution_count": 220,
   "id": "e3987839-df3e-4480-a84b-eb183fd4e829",
   "metadata": {},
   "outputs": [
    {
     "data": {
      "text/plain": [
       "'Kustom Kar Kommandos'"
      ]
     },
     "execution_count": 220,
     "metadata": {},
     "output_type": "execute_result"
    }
   ],
   "source": [
    "df[df.index > 0].iloc[154]['title']\n",
    "# df.iloc[155]['title'], df.index, df.dtypes"
   ]
  },
  {
   "cell_type": "code",
   "execution_count": null,
   "id": "f86c1746-8abb-4e14-a2b3-2797d4adc0f8",
   "metadata": {},
   "outputs": [],
   "source": [
    "\n",
    "# time_scheduler = df.set_index('runtime')\n",
    "time_scheduler = df.sort_index()\n",
    "time_scheduler = time_scheduler[['title', 'release_date']]\n",
    "# time_scheduler.head()\n",
    "time_scheduler.iloc[154]"
   ]
  },
  {
   "cell_type": "code",
   "execution_count": 272,
   "id": "c754d528-cf5d-48d1-bd94-93a4f58100cd",
   "metadata": {},
   "outputs": [
    {
     "data": {
      "text/html": [
       "<div>\n",
       "<style scoped>\n",
       "    .dataframe tbody tr th:only-of-type {\n",
       "        vertical-align: middle;\n",
       "    }\n",
       "\n",
       "    .dataframe tbody tr th {\n",
       "        vertical-align: top;\n",
       "    }\n",
       "\n",
       "    .dataframe thead th {\n",
       "        text-align: right;\n",
       "    }\n",
       "</style>\n",
       "<table border=\"1\" class=\"dataframe\">\n",
       "  <thead>\n",
       "    <tr style=\"text-align: right;\">\n",
       "      <th></th>\n",
       "      <th>title</th>\n",
       "      <th>vote_average</th>\n",
       "      <th>vote_count</th>\n",
       "    </tr>\n",
       "  </thead>\n",
       "  <tbody>\n",
       "    <tr>\n",
       "      <th>46</th>\n",
       "      <td>Se7en</td>\n",
       "      <td>8.1</td>\n",
       "      <td>5915.0</td>\n",
       "    </tr>\n",
       "    <tr>\n",
       "      <th>49</th>\n",
       "      <td>The Usual Suspects</td>\n",
       "      <td>8.1</td>\n",
       "      <td>3334.0</td>\n",
       "    </tr>\n",
       "    <tr>\n",
       "      <th>109</th>\n",
       "      <td>Taxi Driver</td>\n",
       "      <td>8.1</td>\n",
       "      <td>2632.0</td>\n",
       "    </tr>\n",
       "    <tr>\n",
       "      <th>256</th>\n",
       "      <td>Star Wars</td>\n",
       "      <td>8.1</td>\n",
       "      <td>6778.0</td>\n",
       "    </tr>\n",
       "    <tr>\n",
       "      <th>289</th>\n",
       "      <td>Leon: The Professional</td>\n",
       "      <td>8.2</td>\n",
       "      <td>4293.0</td>\n",
       "    </tr>\n",
       "  </tbody>\n",
       "</table>\n",
       "</div>"
      ],
      "text/plain": [
       "                      title  vote_average  vote_count\n",
       "46                    Se7en           8.1      5915.0\n",
       "49       The Usual Suspects           8.1      3334.0\n",
       "109             Taxi Driver           8.1      2632.0\n",
       "256               Star Wars           8.1      6778.0\n",
       "289  Leon: The Professional           8.2      4293.0"
      ]
     },
     "execution_count": 272,
     "metadata": {},
     "output_type": "execute_result"
    }
   ],
   "source": [
    "import pandas as pd\n",
    "df = pd.read_csv(\"https://runestone.academy/ns/books/published/httlads/_static/movies_metadata.csv\").dropna(axis=1, how='all')\n",
    "\n",
    "df_highly_voted = df[df.vote_count > 20]\n",
    "df_high_rated = df_highly_voted[df_highly_voted.vote_average > 8]\n",
    "df_high_rated[['title', 'vote_average', 'vote_count']].head()"
   ]
  },
  {
   "cell_type": "code",
   "execution_count": 273,
   "id": "cccca0b7-543a-4ed8-b733-29b6dc85a1dc",
   "metadata": {},
   "outputs": [
    {
     "data": {
      "text/plain": [
       "(178, 23)"
      ]
     },
     "execution_count": 273,
     "metadata": {},
     "output_type": "execute_result"
    }
   ],
   "source": [
    "df_high_rated.shape"
   ]
  },
  {
   "cell_type": "code",
   "execution_count": 274,
   "id": "6087f228-c892-4418-b924-ccfaff17fe8e",
   "metadata": {},
   "outputs": [],
   "source": [
    "my_vote = {\n",
    "    \"Star Wars\": 9,\n",
    "    \"Paris is Burning\": 8,\n",
    "    \"Dead Poets Society\": 7,\n",
    "    \"The Empire Strikes Back\": 9.5,\n",
    "    \"The Shining\": 8,\n",
    "    \"Return of the Jedi\": 8,\n",
    "    \"1941\": 8,\n",
    "    \"Forrest Gump\": 7.5,\n",
    "}"
   ]
  },
  {
   "cell_type": "code",
   "execution_count": 275,
   "id": "6b071f29-b41f-43a2-af28-ba23d3085ba5",
   "metadata": {},
   "outputs": [],
   "source": [
    "# First, create the Series with your ratings\n",
    "df_my_ratings = pd.Series(my_votes, name='my_vote')\n",
    "\n",
    "# Then create the DataFrame with vote_average and vote_count\n",
    "df_compare_votes = df_high_rated.set_index('title')[['vote_average']]#, 'vote_count'#]]\n",
    "\n",
    "# Finally, add your ratings to the DataFrame\n",
    "df_compare_votes['my_vote'] = df_my_ratings\n",
    "\n",
    "# Now you can view the results\n",
    "df_compare_votes = df_compare_votes.dropna()"
   ]
  },
  {
   "cell_type": "code",
   "execution_count": 276,
   "id": "6fdbf4d0-b637-4822-8680-8a7d2fd37688",
   "metadata": {},
   "outputs": [
    {
     "data": {
      "text/html": [
       "<div>\n",
       "<style scoped>\n",
       "    .dataframe tbody tr th:only-of-type {\n",
       "        vertical-align: middle;\n",
       "    }\n",
       "\n",
       "    .dataframe tbody tr th {\n",
       "        vertical-align: top;\n",
       "    }\n",
       "\n",
       "    .dataframe thead th {\n",
       "        text-align: right;\n",
       "    }\n",
       "</style>\n",
       "<table border=\"1\" class=\"dataframe\">\n",
       "  <thead>\n",
       "    <tr style=\"text-align: right;\">\n",
       "      <th></th>\n",
       "      <th>vote_average</th>\n",
       "      <th>my_vote</th>\n",
       "    </tr>\n",
       "    <tr>\n",
       "      <th>title</th>\n",
       "      <th></th>\n",
       "      <th></th>\n",
       "    </tr>\n",
       "  </thead>\n",
       "  <tbody>\n",
       "    <tr>\n",
       "      <th>Star Wars</th>\n",
       "      <td>8.1</td>\n",
       "      <td>9.0</td>\n",
       "    </tr>\n",
       "    <tr>\n",
       "      <th>Forrest Gump</th>\n",
       "      <td>8.2</td>\n",
       "      <td>7.5</td>\n",
       "    </tr>\n",
       "    <tr>\n",
       "      <th>Paris is Burning</th>\n",
       "      <td>8.2</td>\n",
       "      <td>8.0</td>\n",
       "    </tr>\n",
       "    <tr>\n",
       "      <th>The Empire Strikes Back</th>\n",
       "      <td>8.2</td>\n",
       "      <td>9.5</td>\n",
       "    </tr>\n",
       "    <tr>\n",
       "      <th>Dead Poets Society</th>\n",
       "      <td>8.1</td>\n",
       "      <td>7.0</td>\n",
       "    </tr>\n",
       "    <tr>\n",
       "      <th>The Shining</th>\n",
       "      <td>8.1</td>\n",
       "      <td>8.0</td>\n",
       "    </tr>\n",
       "  </tbody>\n",
       "</table>\n",
       "</div>"
      ],
      "text/plain": [
       "                         vote_average  my_vote\n",
       "title                                         \n",
       "Star Wars                         8.1      9.0\n",
       "Forrest Gump                      8.2      7.5\n",
       "Paris is Burning                  8.2      8.0\n",
       "The Empire Strikes Back           8.2      9.5\n",
       "Dead Poets Society                8.1      7.0\n",
       "The Shining                       8.1      8.0"
      ]
     },
     "execution_count": 276,
     "metadata": {},
     "output_type": "execute_result"
    }
   ],
   "source": [
    "df_compare_votes"
   ]
  },
  {
   "cell_type": "code",
   "execution_count": 277,
   "id": "8f39c578-c1ab-41ad-941d-658e06cc8a17",
   "metadata": {},
   "outputs": [
    {
     "data": {
      "text/html": [
       "<div>\n",
       "<style scoped>\n",
       "    .dataframe tbody tr th:only-of-type {\n",
       "        vertical-align: middle;\n",
       "    }\n",
       "\n",
       "    .dataframe tbody tr th {\n",
       "        vertical-align: top;\n",
       "    }\n",
       "\n",
       "    .dataframe thead th {\n",
       "        text-align: right;\n",
       "    }\n",
       "</style>\n",
       "<table border=\"1\" class=\"dataframe\">\n",
       "  <thead>\n",
       "    <tr style=\"text-align: right;\">\n",
       "      <th></th>\n",
       "      <th>vote_average</th>\n",
       "      <th>my_vote</th>\n",
       "      <th>compare_votes</th>\n",
       "    </tr>\n",
       "    <tr>\n",
       "      <th>title</th>\n",
       "      <th></th>\n",
       "      <th></th>\n",
       "      <th></th>\n",
       "    </tr>\n",
       "  </thead>\n",
       "  <tbody>\n",
       "    <tr>\n",
       "      <th>Star Wars</th>\n",
       "      <td>8.1</td>\n",
       "      <td>9.0</td>\n",
       "      <td>-0.100000</td>\n",
       "    </tr>\n",
       "    <tr>\n",
       "      <th>Forrest Gump</th>\n",
       "      <td>8.2</td>\n",
       "      <td>7.5</td>\n",
       "      <td>0.093333</td>\n",
       "    </tr>\n",
       "    <tr>\n",
       "      <th>Paris is Burning</th>\n",
       "      <td>8.2</td>\n",
       "      <td>8.0</td>\n",
       "      <td>0.025000</td>\n",
       "    </tr>\n",
       "    <tr>\n",
       "      <th>The Empire Strikes Back</th>\n",
       "      <td>8.2</td>\n",
       "      <td>9.5</td>\n",
       "      <td>-0.136842</td>\n",
       "    </tr>\n",
       "    <tr>\n",
       "      <th>Dead Poets Society</th>\n",
       "      <td>8.1</td>\n",
       "      <td>7.0</td>\n",
       "      <td>0.157143</td>\n",
       "    </tr>\n",
       "    <tr>\n",
       "      <th>The Shining</th>\n",
       "      <td>8.1</td>\n",
       "      <td>8.0</td>\n",
       "      <td>0.012500</td>\n",
       "    </tr>\n",
       "  </tbody>\n",
       "</table>\n",
       "</div>"
      ],
      "text/plain": [
       "                         vote_average  my_vote  compare_votes\n",
       "title                                                        \n",
       "Star Wars                         8.1      9.0      -0.100000\n",
       "Forrest Gump                      8.2      7.5       0.093333\n",
       "Paris is Burning                  8.2      8.0       0.025000\n",
       "The Empire Strikes Back           8.2      9.5      -0.136842\n",
       "Dead Poets Society                8.1      7.0       0.157143\n",
       "The Shining                       8.1      8.0       0.012500"
      ]
     },
     "execution_count": 277,
     "metadata": {},
     "output_type": "execute_result"
    }
   ],
   "source": [
    "df_compare_votes['compare_votes'] = (df_compare_votes['vote_average']-df_compare_votes['my_vote'])/df_compare_votes['my_vote']\n",
    "df_compare_votes"
   ]
  },
  {
   "cell_type": "code",
   "execution_count": 283,
   "id": "0b1c42ce-ec50-4dfb-9b72-9038b5483e54",
   "metadata": {},
   "outputs": [
    {
     "data": {
      "text/plain": [
       "(4491, 22)"
      ]
     },
     "execution_count": 283,
     "metadata": {},
     "output_type": "execute_result"
    }
   ],
   "source": [
    "import pandas as pd\n",
    "df = pd.read_csv(\"https://runestone.academy/ns/books/published/httlads/_static/movies_metadata.csv\").dropna(axis=1, how='all')\n",
    "collection = df.set_index('belongs_to_collection')\n",
    "collection = collection[collection.index.notna()]\n",
    "collection.shape"
   ]
  },
  {
   "cell_type": "code",
   "execution_count": 300,
   "id": "1484b4c0-0560-41e3-b630-f15cf35570ad",
   "metadata": {},
   "outputs": [
    {
     "data": {
      "text/plain": [
       "title    Passage of Venus\n",
       "Name: 1874-12-09, dtype: object"
      ]
     },
     "execution_count": 300,
     "metadata": {},
     "output_type": "execute_result"
    }
   ],
   "source": [
    "import pandas as pd\n",
    "df = pd.read_csv(\"https://runestone.academy/ns/books/published/httlads/_static/movies_metadata.csv\").dropna(axis=1, how='all')\n",
    "#df.sort_index()\n",
    "release_date = df.set_index('release_date')\n",
    "release_date = release_date.sort_index()\n",
    "release_date = release_date[release_date.index.notna()]\n",
    "release_date = release_date[['title']]\n",
    "release_date.iloc[0]"
   ]
  },
  {
   "cell_type": "code",
   "execution_count": 309,
   "id": "7316ff1d-3cdf-4930-9cd8-52d233b55b98",
   "metadata": {},
   "outputs": [
    {
     "ename": "KeyError",
     "evalue": "\"None of [Index(['titleruntime'], dtype='object')] are in the [columns]\"",
     "output_type": "error",
     "traceback": [
      "\u001b[1;31m---------------------------------------------------------------------------\u001b[0m",
      "\u001b[1;31mKeyError\u001b[0m                                  Traceback (most recent call last)",
      "Cell \u001b[1;32mIn[309], line 7\u001b[0m\n\u001b[0;32m      5\u001b[0m time_scheduler \u001b[38;5;241m=\u001b[39m time_scheduler\u001b[38;5;241m.\u001b[39msort_index()\n\u001b[0;32m      6\u001b[0m time_scheduler \u001b[38;5;241m=\u001b[39m time_scheduler[time_scheduler\u001b[38;5;241m.\u001b[39mindex\u001b[38;5;241m.\u001b[39mnotna()]\n\u001b[1;32m----> 7\u001b[0m time_scheduler \u001b[38;5;241m=\u001b[39m time_scheduler[[\u001b[38;5;124m'\u001b[39m\u001b[38;5;124mtitle\u001b[39m\u001b[38;5;124m'\u001b[39m\u001b[38;5;124m'\u001b[39m\u001b[38;5;124mruntime\u001b[39m\u001b[38;5;124m'\u001b[39m]]\n\u001b[0;32m      8\u001b[0m \u001b[38;5;66;03m#time_scheduler.iloc[154]\u001b[39;00m\n\u001b[0;32m     10\u001b[0m time_scheduler[time_scheduler\u001b[38;5;241m.\u001b[39mindex \u001b[38;5;241m>\u001b[39m \u001b[38;5;241m0\u001b[39m]\u001b[38;5;241m.\u001b[39miloc[\u001b[38;5;241m154\u001b[39m]\n",
      "File \u001b[1;32mC:\\ProgramData\\anaconda3\\Lib\\site-packages\\pandas\\core\\frame.py:4108\u001b[0m, in \u001b[0;36mDataFrame.__getitem__\u001b[1;34m(self, key)\u001b[0m\n\u001b[0;32m   4106\u001b[0m     \u001b[38;5;28;01mif\u001b[39;00m is_iterator(key):\n\u001b[0;32m   4107\u001b[0m         key \u001b[38;5;241m=\u001b[39m \u001b[38;5;28mlist\u001b[39m(key)\n\u001b[1;32m-> 4108\u001b[0m     indexer \u001b[38;5;241m=\u001b[39m \u001b[38;5;28mself\u001b[39m\u001b[38;5;241m.\u001b[39mcolumns\u001b[38;5;241m.\u001b[39m_get_indexer_strict(key, \u001b[38;5;124m\"\u001b[39m\u001b[38;5;124mcolumns\u001b[39m\u001b[38;5;124m\"\u001b[39m)[\u001b[38;5;241m1\u001b[39m]\n\u001b[0;32m   4110\u001b[0m \u001b[38;5;66;03m# take() does not accept boolean indexers\u001b[39;00m\n\u001b[0;32m   4111\u001b[0m \u001b[38;5;28;01mif\u001b[39;00m \u001b[38;5;28mgetattr\u001b[39m(indexer, \u001b[38;5;124m\"\u001b[39m\u001b[38;5;124mdtype\u001b[39m\u001b[38;5;124m\"\u001b[39m, \u001b[38;5;28;01mNone\u001b[39;00m) \u001b[38;5;241m==\u001b[39m \u001b[38;5;28mbool\u001b[39m:\n",
      "File \u001b[1;32mC:\\ProgramData\\anaconda3\\Lib\\site-packages\\pandas\\core\\indexes\\base.py:6200\u001b[0m, in \u001b[0;36mIndex._get_indexer_strict\u001b[1;34m(self, key, axis_name)\u001b[0m\n\u001b[0;32m   6197\u001b[0m \u001b[38;5;28;01melse\u001b[39;00m:\n\u001b[0;32m   6198\u001b[0m     keyarr, indexer, new_indexer \u001b[38;5;241m=\u001b[39m \u001b[38;5;28mself\u001b[39m\u001b[38;5;241m.\u001b[39m_reindex_non_unique(keyarr)\n\u001b[1;32m-> 6200\u001b[0m \u001b[38;5;28mself\u001b[39m\u001b[38;5;241m.\u001b[39m_raise_if_missing(keyarr, indexer, axis_name)\n\u001b[0;32m   6202\u001b[0m keyarr \u001b[38;5;241m=\u001b[39m \u001b[38;5;28mself\u001b[39m\u001b[38;5;241m.\u001b[39mtake(indexer)\n\u001b[0;32m   6203\u001b[0m \u001b[38;5;28;01mif\u001b[39;00m \u001b[38;5;28misinstance\u001b[39m(key, Index):\n\u001b[0;32m   6204\u001b[0m     \u001b[38;5;66;03m# GH 42790 - Preserve name from an Index\u001b[39;00m\n",
      "File \u001b[1;32mC:\\ProgramData\\anaconda3\\Lib\\site-packages\\pandas\\core\\indexes\\base.py:6249\u001b[0m, in \u001b[0;36mIndex._raise_if_missing\u001b[1;34m(self, key, indexer, axis_name)\u001b[0m\n\u001b[0;32m   6247\u001b[0m \u001b[38;5;28;01mif\u001b[39;00m nmissing:\n\u001b[0;32m   6248\u001b[0m     \u001b[38;5;28;01mif\u001b[39;00m nmissing \u001b[38;5;241m==\u001b[39m \u001b[38;5;28mlen\u001b[39m(indexer):\n\u001b[1;32m-> 6249\u001b[0m         \u001b[38;5;28;01mraise\u001b[39;00m \u001b[38;5;167;01mKeyError\u001b[39;00m(\u001b[38;5;124mf\u001b[39m\u001b[38;5;124m\"\u001b[39m\u001b[38;5;124mNone of [\u001b[39m\u001b[38;5;132;01m{\u001b[39;00mkey\u001b[38;5;132;01m}\u001b[39;00m\u001b[38;5;124m] are in the [\u001b[39m\u001b[38;5;132;01m{\u001b[39;00maxis_name\u001b[38;5;132;01m}\u001b[39;00m\u001b[38;5;124m]\u001b[39m\u001b[38;5;124m\"\u001b[39m)\n\u001b[0;32m   6251\u001b[0m     not_found \u001b[38;5;241m=\u001b[39m \u001b[38;5;28mlist\u001b[39m(ensure_index(key)[missing_mask\u001b[38;5;241m.\u001b[39mnonzero()[\u001b[38;5;241m0\u001b[39m]]\u001b[38;5;241m.\u001b[39munique())\n\u001b[0;32m   6252\u001b[0m     \u001b[38;5;28;01mraise\u001b[39;00m \u001b[38;5;167;01mKeyError\u001b[39;00m(\u001b[38;5;124mf\u001b[39m\u001b[38;5;124m\"\u001b[39m\u001b[38;5;132;01m{\u001b[39;00mnot_found\u001b[38;5;132;01m}\u001b[39;00m\u001b[38;5;124m not in index\u001b[39m\u001b[38;5;124m\"\u001b[39m)\n",
      "\u001b[1;31mKeyError\u001b[0m: \"None of [Index(['titleruntime'], dtype='object')] are in the [columns]\""
     ]
    }
   ],
   "source": [
    "import pandas as pd\n",
    "df = pd.read_csv(\"https://runestone.academy/ns/books/published/httlads/_static/movies_metadata.csv\").dropna(axis=1, how='all')\n",
    "#df.sort_index()\n",
    "time_scheduler = df.set_index('runtime')\n",
    "time_scheduler = time_scheduler.sort_index()\n",
    "time_scheduler = time_scheduler[time_scheduler.index.notna()]\n",
    "time_scheduler = time_scheduler[['title']]\n",
    "#time_scheduler.iloc[154]\n",
    "\n",
    "time_scheduler[time_scheduler.index > 0].iloc[154]\n",
    "\n",
    "# time_scheduler = df.set_index('runtime')\n",
    "# time_scheduler = df.sort_index()\n",
    "# time_scheduler = time_scheduler[['title', 'release_date']]\n",
    "# time_scheduler.head()\n",
    "# time_scheduler.iloc[154]\n",
    "# time_scheduler = df.set_index('runtime')\n",
    "# time_scheduler = time_scheduler[['title', 'release_date']]\n",
    "# time_scheduler.loc[154].shape"
   ]
  },
  {
   "cell_type": "code",
   "execution_count": 301,
   "id": "915de087-6497-42b1-b03a-690881def34b",
   "metadata": {},
   "outputs": [
    {
     "data": {
      "text/html": [
       "<div>\n",
       "<style scoped>\n",
       "    .dataframe tbody tr th:only-of-type {\n",
       "        vertical-align: middle;\n",
       "    }\n",
       "\n",
       "    .dataframe tbody tr th {\n",
       "        vertical-align: top;\n",
       "    }\n",
       "\n",
       "    .dataframe thead th {\n",
       "        text-align: right;\n",
       "    }\n",
       "</style>\n",
       "<table border=\"1\" class=\"dataframe\">\n",
       "  <thead>\n",
       "    <tr style=\"text-align: right;\">\n",
       "      <th></th>\n",
       "      <th>runtime</th>\n",
       "      <th>title</th>\n",
       "    </tr>\n",
       "  </thead>\n",
       "  <tbody>\n",
       "    <tr>\n",
       "      <th>0</th>\n",
       "      <td>0.0</td>\n",
       "      <td>The Diary of Preston Plummer</td>\n",
       "    </tr>\n",
       "    <tr>\n",
       "      <th>1</th>\n",
       "      <td>0.0</td>\n",
       "      <td>Beaver Trilogy Part IV</td>\n",
       "    </tr>\n",
       "    <tr>\n",
       "      <th>2</th>\n",
       "      <td>0.0</td>\n",
       "      <td>Monsieur Taxi</td>\n",
       "    </tr>\n",
       "    <tr>\n",
       "      <th>3</th>\n",
       "      <td>0.0</td>\n",
       "      <td>De Vlaschaard</td>\n",
       "    </tr>\n",
       "    <tr>\n",
       "      <th>4</th>\n",
       "      <td>0.0</td>\n",
       "      <td>Gaston's War</td>\n",
       "    </tr>\n",
       "    <tr>\n",
       "      <th>...</th>\n",
       "      <td>...</td>\n",
       "      <td>...</td>\n",
       "    </tr>\n",
       "    <tr>\n",
       "      <th>45188</th>\n",
       "      <td>925.0</td>\n",
       "      <td>Heimat: A Chronicle of Germany</td>\n",
       "    </tr>\n",
       "    <tr>\n",
       "      <th>45189</th>\n",
       "      <td>931.0</td>\n",
       "      <td>Berlin Alexanderplatz</td>\n",
       "    </tr>\n",
       "    <tr>\n",
       "      <th>45190</th>\n",
       "      <td>1140.0</td>\n",
       "      <td>Baseball</td>\n",
       "    </tr>\n",
       "    <tr>\n",
       "      <th>45191</th>\n",
       "      <td>1140.0</td>\n",
       "      <td>Jazz</td>\n",
       "    </tr>\n",
       "    <tr>\n",
       "      <th>45192</th>\n",
       "      <td>1256.0</td>\n",
       "      <td>Centennial</td>\n",
       "    </tr>\n",
       "  </tbody>\n",
       "</table>\n",
       "<p>45193 rows × 2 columns</p>\n",
       "</div>"
      ],
      "text/plain": [
       "       runtime                           title\n",
       "0          0.0    The Diary of Preston Plummer\n",
       "1          0.0          Beaver Trilogy Part IV\n",
       "2          0.0                   Monsieur Taxi\n",
       "3          0.0                   De Vlaschaard\n",
       "4          0.0                    Gaston's War\n",
       "...        ...                             ...\n",
       "45188    925.0  Heimat: A Chronicle of Germany\n",
       "45189    931.0           Berlin Alexanderplatz\n",
       "45190   1140.0                        Baseball\n",
       "45191   1140.0                            Jazz\n",
       "45192   1256.0                      Centennial\n",
       "\n",
       "[45193 rows x 2 columns]"
      ]
     },
     "execution_count": 301,
     "metadata": {},
     "output_type": "execute_result"
    }
   ],
   "source": [
    "time_scheduler.reset_index()"
   ]
  },
  {
   "cell_type": "code",
   "execution_count": 306,
   "id": "41e534d9-372d-4033-ba6c-713cd75be488",
   "metadata": {},
   "outputs": [
    {
     "ename": "SyntaxError",
     "evalue": "positional argument follows keyword argument (4027434950.py, line 1)",
     "output_type": "error",
     "traceback": [
      "\u001b[1;36m  Cell \u001b[1;32mIn[306], line 1\u001b[1;36m\u001b[0m\n\u001b[1;33m    df = pd.read_csv(\"https://runestone.academy/ns/books/published/httlads/_static/movies_metadata.csv\", usecols=['title', 'runtime'], dtype).dropna(axis=1, how='all')\u001b[0m\n\u001b[1;37m                                                                                                                                            ^\u001b[0m\n\u001b[1;31mSyntaxError\u001b[0m\u001b[1;31m:\u001b[0m positional argument follows keyword argument\n"
     ]
    }
   ],
   "source": [
    "df = pd.read_csv(\"https://runestone.academy/ns/books/published/httlads/_static/movies_metadata.csv\", usecols=['title', 'runtime'], dtype).dropna(axis=1, how='all')\n",
    "df"
   ]
  },
  {
   "cell_type": "code",
   "execution_count": null,
   "id": "67296a7f-ddde-488b-bb26-96efcfab5cec",
   "metadata": {},
   "outputs": [],
   "source": []
  }
 ],
 "metadata": {
  "kernelspec": {
   "display_name": "Python [conda env:base] *",
   "language": "python",
   "name": "conda-base-py"
  },
  "language_info": {
   "codemirror_mode": {
    "name": "ipython",
    "version": 3
   },
   "file_extension": ".py",
   "mimetype": "text/x-python",
   "name": "python",
   "nbconvert_exporter": "python",
   "pygments_lexer": "ipython3",
   "version": "3.13.5"
  }
 },
 "nbformat": 4,
 "nbformat_minor": 5
}
