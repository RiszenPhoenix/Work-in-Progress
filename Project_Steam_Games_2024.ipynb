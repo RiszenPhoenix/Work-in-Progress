{
  "nbformat": 4,
  "nbformat_minor": 0,
  "metadata": {
    "colab": {
      "provenance": []
    },
    "kernelspec": {
      "name": "python3",
      "display_name": "Python 3"
    },
    "language_info": {
      "name": "python"
    }
  },
  "cells": [
    {
      "cell_type": "markdown",
      "source": [
        "# CS304 Data Science Project\n",
        "## Title: **The Performance of Video Games Based on the Masses**\n",
        "### Team Members: **Christopher Holt, Ethan Smith**\n",
        "\n",
        "## Abstract:\n",
        "\n",
        "**Video games are entertainment purchases, and the pressure is on developers to present a product that their customer base will enjoy. Thus, public opinion is important to the immediate and long-term success of these projects. We plan to use a Kaggle-sourced data set regarding Steam’s library of video games. The data source contains various characteristics of video games, including user scores, average playtime, price, and more. In examining this data set, we want to explore the question: “Does public opinion affect a game’s ability to garner support in the form of owners and playtime?” The ability to visualize potential relationships between factors such as user scores, playtime, and cost would aid in understanding the influence of public opinion, whether present or not, on the perceived success of games through playtime metrics. We plan to use scatterplots and histograms to create models that illustrate comparisons among the previously mentioned aspects of the data set. In addition to our main question, any outliers in the data will be highlighted to uncover exceptions and subtler dynamics. Possible cases might include games that have high user scores but are extremely inexpensive or expensive, games that have low user scores but considerable playtime, or games that have high user scores and have very little playtime. We believe negative reviews can diminish engagement even among current owners, motivated by social-image concerns of appearing as an \"incompetent consumer,\" leading users to reduce playtime after reading negative feedback. This aligns with broader observations that negative sentiment affects post-purchase behavior, not just buying decisions. By integrating these insights with our visual modeling, our study aims to reveal how sentiment shapes long-term engagement. We anticipate confirming that higher ratios of negative reviews are associated with lower playtime per owner, providing developers with both analytical tools and a strategic perspective on managing user sentiment to maintain player engagement.**"
      ],
      "metadata": {
        "id": "LFfwmz4hgII1"
      }
    },
    {
      "cell_type": "markdown",
      "source": [
        "## Setup"
      ],
      "metadata": {
        "id": "HwU5aU7K-aNt"
      }
    },
    {
      "cell_type": "code",
      "source": [
        "# Setup\n",
        "# TODO: load libraries and other utilities you'll use throughout your notebook here\n",
        "import pandas as pd\n",
        "from requests import get\n",
        "import pathlib\n",
        "import subprocess\n",
        "import numpy as np"
      ],
      "metadata": {
        "id": "HZjMjVJ8nuar"
      },
      "execution_count": 2,
      "outputs": []
    },
    {
      "cell_type": "markdown",
      "source": [
        "## Data Set / Aquisition"
      ],
      "metadata": {
        "id": "Q-xMCTtFntek"
      }
    },
    {
      "cell_type": "markdown",
      "source": [
        "**TODO: (200-500 words) describe your dataset including important details such as provenance, authenticity, why it was collected, etc. Describe the format of the data and what attributes are present including their purpose and datatypes. Include any other information we should know about the data.**"
      ],
      "metadata": {
        "id": "Zck6crOa6t_2"
      }
    },
    {
      "cell_type": "code",
      "source": [],
      "metadata": {
        "id": "Iy4ZBAkpDLXx"
      },
      "execution_count": null,
      "outputs": []
    },
    {
      "cell_type": "markdown",
      "source": [
        "# The Steam Games Dataset\n",
        "is a comprehensive collection of game information from the Steam digital distribution platform, containing detailed attributes for over ninety thousand games. This dataset was carefully curated to provide insights into the Steam ecosystem, including game characteristics, user engagement metrics, and market trends.\n",
        "\n",
        "---\n",
        "\n",
        "The dataset was compiled through the hard work of Joakim Arvidsson's systematic web scraping of Steam's public API and store pages, focusing on the most popular games to create a representative sample of the platform's content. The collection process involved:\n",
        "\n",
        "    Structured data extraction from Steam's public interfaces\n",
        "    Standardized formatting of game attributes\n",
        "    Quality control measures to ensure data consistency\n",
        "    Annual updates to maintain currency of information\n",
        "\n",
        "\n",
        "The dataset is organized into a tabular format with the following key attributes:\n",
        "\n",
        "    Attribute\tData Type\tDescription\tPurpose\n",
        "    app_id\tInteger\tUnique Steam identifier\tPrimary key for game identification\n",
        "    name\tString\tGame title\tGame identification\n",
        "    release_date\tDate\tLaunch date on Steam\tTemporal analysis\n",
        "    price\tFloat\tCurrent price in USD\tMonetary analysis\n",
        "    categories\tArray\tGame genres/tags\tContent classification\n",
        "    platforms\tArray\tSupported operating systems\tCompatibility tracking\n",
        "    achievements\tInteger\tNumber of achievements\tGame feature analysis\n",
        "    positive_ratings\tInteger\tNumber of positive reviews\tQuality assessment\n",
        "    negative_ratings\tInteger\tNumber of negative reviews\tQuality assessment\n",
        "    average_playtime\tFloat\tAverage hours played\tEngagement metrics\n",
        "    owners\tString\tEstimated player count range\tPopularity metrics\n",
        "    Data Quality and Limitations\n",
        "\n",
        "The dataset maintains high data quality through:\n",
        "\n",
        "    Annual updates to reflect current Steam store information\n",
        "    Consistent formatting across all entries\n",
        "    Comprehensive coverage of key game attributes\n",
        "    Standardized rating calculation methods\n",
        "\n",
        "Important considerations:\n",
        "\n",
        "    Owner counts are provided as ranges (e.g., \"1,000 - 2,000\")\n",
        "    Ratings are subject to change over time\n",
        "    Some games may have incomplete information for certain fields\n",
        "    Data represents a snapshot of the Steam store at time of collection\n",
        "\n",
        "This dataset is particularly valuable for:\n",
        "\n",
        "    Game market analysis\n",
        "    Popularity trend studies\n",
        "    Genre distribution research\n",
        "    Player engagement patterns\n",
        "    Price-point analysis\n",
        "\n",
        "The structured format and comprehensive attribute set make it suitable for both exploratory data analysis and machine learning applications, while maintaining data integrity through consistent formatting and regular updates."
      ],
      "metadata": {
        "id": "ibAEfvlaCqT7"
      }
    },
    {
      "cell_type": "markdown",
      "source": [
        "---\n",
        "**Do not run the code below, it was used to get the dataset into our collab\n",
        "project. Running it again will at best generate more copies of our almost 3gb file. Ill advised as we dont know how much space is alloted to us for this class.**\n",
        "\n",
        "---"
      ],
      "metadata": {
        "id": "_GW-8vne9efX"
      }
    },
    {
      "cell_type": "code",
      "source": [
        "# TODO: load data from external, public source\n",
        "from requests import get"
      ],
      "metadata": {
        "id": "lC09sm3ApbFj"
      },
      "execution_count": 5,
      "outputs": []
    },
    {
      "cell_type": "code",
      "source": [
        "r = get('https://www.kaggle.com/api/v1/datasets/download/joebeachcapital/top-1000-steam-games')\n",
        "r, r.status_code"
      ],
      "metadata": {
        "colab": {
          "base_uri": "https://localhost:8080/"
        },
        "id": "1PWsK5aRzZtY",
        "outputId": "1759452c-a42a-4b5e-803c-e2906e82823f"
      },
      "execution_count": 7,
      "outputs": [
        {
          "output_type": "execute_result",
          "data": {
            "text/plain": [
              "(<Response [200]>, 200)"
            ]
          },
          "metadata": {},
          "execution_count": 7
        }
      ]
    },
    {
      "cell_type": "code",
      "source": [
        "import pathlib\n",
        "import subprocess"
      ],
      "metadata": {
        "id": "tMRaTup-zZqT"
      },
      "execution_count": 8,
      "outputs": []
    },
    {
      "cell_type": "code",
      "source": [
        "ds = pathlib.Path('data/steam_games.zip')\n",
        "ds.write_bytes(r.content)\n",
        "print(ds)"
      ],
      "metadata": {
        "colab": {
          "base_uri": "https://localhost:8080/"
        },
        "id": "oRJD28n3zZn-",
        "outputId": "afd50e68-b6a4-4c52-e55f-36d5cc1e8eb8"
      },
      "execution_count": 25,
      "outputs": [
        {
          "output_type": "stream",
          "name": "stdout",
          "text": [
            "data/steam_games.zip\n"
          ]
        }
      ]
    },
    {
      "cell_type": "code",
      "source": [
        "pathlib.Path('data/steam_games.zip').exists()"
      ],
      "metadata": {
        "colab": {
          "base_uri": "https://localhost:8080/"
        },
        "id": "HIwBqMy0zZki",
        "outputId": "11dd0147-7507-4af4-ed4f-f11cc15e2629"
      },
      "execution_count": 26,
      "outputs": [
        {
          "output_type": "execute_result",
          "data": {
            "text/plain": [
              "True"
            ]
          },
          "metadata": {},
          "execution_count": 26
        }
      ]
    },
    {
      "cell_type": "code",
      "source": [
        "subprocess.run(['unzip', 'data/steam_games.zip'])"
      ],
      "metadata": {
        "colab": {
          "base_uri": "https://localhost:8080/"
        },
        "id": "JrnFJhON3Qya",
        "outputId": "f3c46f90-7fd5-4484-de49-8d3223ef9dd8"
      },
      "execution_count": 33,
      "outputs": [
        {
          "output_type": "execute_result",
          "data": {
            "text/plain": [
              "CompletedProcess(args=['unzip', 'data/steam_games.zip'], returncode=0)"
            ]
          },
          "metadata": {},
          "execution_count": 33
        }
      ]
    },
    {
      "cell_type": "code",
      "source": [
        "subprocess.run('ls -la', shell=True, capture_output=True).stdout.splitlines()"
      ],
      "metadata": {
        "colab": {
          "base_uri": "https://localhost:8080/"
        },
        "id": "fbnYdmXm3hfM",
        "outputId": "1f0df9ca-96e7-443a-de4c-9a75502120b3"
      },
      "execution_count": 37,
      "outputs": [
        {
          "output_type": "execute_result",
          "data": {
            "text/plain": [
              "[b'total 306608',\n",
              " b'drwxr-xr-x 1 root root      4096 Sep 12 17:05 .',\n",
              " b'drwxr-xr-x 1 root root      4096 Sep 12 16:29 ..',\n",
              " b'-rw-r--r-- 1 root root 297347038 Sep 15  2024 93182_steam_games.csv',\n",
              " b'drwxr-xr-x 4 root root      4096 Sep  9 13:46 .config',\n",
              " b'drwxr-xr-x 2 root root      4096 Sep 12 17:05 data',\n",
              " b'drwxr-xr-x 1 root root      4096 Sep  9 13:46 sample_data',\n",
              " b'-rw-r--r-- 1 root root  15969959 Sep 15  2024 steam_app_data.csv',\n",
              " b'-rw-r--r-- 1 root root    622825 Sep 15  2024 steamspy_data.csv']"
            ]
          },
          "metadata": {},
          "execution_count": 37
        }
      ]
    },
    {
      "cell_type": "code",
      "source": [
        "import numpy as np"
      ],
      "metadata": {
        "id": "BKf3K_AvzZeD"
      },
      "execution_count": 16,
      "outputs": []
    },
    {
      "cell_type": "markdown",
      "source": [
        "---\n",
        "Alright, all of the code above got our data loaded into the Google Collab environment. It does not need to be ran again, but I am leaving it in to show our work. With the cell below, our dataframe is stored in the obvious variable *df*\n",
        "\n",
        "---"
      ],
      "metadata": {
        "id": "8B9BaUFg7lDC"
      }
    },
    {
      "cell_type": "code",
      "source": [
        "df = pd.read_csv('./93182_steam_games.csv')\n",
        "df.head()"
      ],
      "metadata": {
        "colab": {
          "base_uri": "https://localhost:8080/",
          "height": 620
        },
        "id": "E7nHoeX3zZPL",
        "outputId": "134791e3-eb27-4d61-ae38-20800d60d04f"
      },
      "execution_count": 43,
      "outputs": [
        {
          "output_type": "stream",
          "name": "stderr",
          "text": [
            "/tmp/ipython-input-2816845184.py:1: DtypeWarning: Columns (3,36) have mixed types. Specify dtype option on import or set low_memory=False.\n",
            "  df = pd.read_csv('./93182_steam_games.csv')\n"
          ]
        },
        {
          "output_type": "execute_result",
          "data": {
            "text/plain": [
              "     AppID                   Name  Release date Estimated owners  Peak CCU  \\\n",
              "0  1424640                     余烬   Oct 3, 2020    20000 - 50000         0   \n",
              "1   402890            Nyctophilia  Sep 23, 2015   50000 - 100000         0   \n",
              "2  1151740        Prison Princess   Apr 2, 2020        0 - 20000         0   \n",
              "3   875530           Dead In Time  Oct 12, 2018        0 - 20000         0   \n",
              "4  1835360  Panacle: Back To Wild  Mar 11, 2022        0 - 20000         2   \n",
              "\n",
              "   Required age  Price  DLC count  \\\n",
              "0             0   3.99          0   \n",
              "1             0   0.00          0   \n",
              "2             0  19.99          0   \n",
              "3             0   7.99          0   \n",
              "4             0   3.99          0   \n",
              "\n",
              "                                      About the game  \\\n",
              "0  'Ashes of war' is an anti war theme adventure ...   \n",
              "1  NYCTOPHILIA Nyctophilia is an 2D psychological...   \n",
              "2  ABOUT Now nothing more than a phantom, can the...   \n",
              "3  Is a hardcore action with a non-trivial level ...   \n",
              "4  Panacle: Back to the Wild is a indie card game...   \n",
              "\n",
              "                                 Supported languages  ...  \\\n",
              "0                             ['Simplified Chinese']  ...   \n",
              "1                             ['English', 'Russian']  ...   \n",
              "2  ['English', 'Simplified Chinese', 'Traditional...  ...   \n",
              "3                             ['English', 'Russian']  ...   \n",
              "4  ['English', 'Japanese', 'Simplified Chinese', ...  ...   \n",
              "\n",
              "  Average playtime two weeks Median playtime forever  \\\n",
              "0                          0                       0   \n",
              "1                          0                       0   \n",
              "2                          0                       0   \n",
              "3                          0                       0   \n",
              "4                          0                       0   \n",
              "\n",
              "  Median playtime two weeks          Developers          Publishers  \\\n",
              "0                         0       宁夏华夏西部影视城有限公司       宁夏华夏西部影视城有限公司   \n",
              "1                         0  Cat In A Jar Games  Cat In A Jar Games   \n",
              "2                         0             qureate             qureate   \n",
              "3                         0       Zelenov Artem       Zelenov Artem   \n",
              "4                         0                渡鸦游戏            渡鸦游戏,电钮组   \n",
              "\n",
              "                                          Categories  \\\n",
              "0                       Single-player,Family Sharing   \n",
              "1                                      Single-player   \n",
              "2  Single-player,Steam Achievements,Full controll...   \n",
              "3  Single-player,Full controller support,Family S...   \n",
              "4                       Single-player,Family Sharing   \n",
              "\n",
              "                         Genres  \\\n",
              "0    Adventure,Casual,Indie,RPG   \n",
              "1  Adventure,Free To Play,Indie   \n",
              "2               Adventure,Indie   \n",
              "3                  Action,Indie   \n",
              "4   Indie,Strategy,Early Access   \n",
              "\n",
              "                                                Tags  \\\n",
              "0  Sokoban,RPG,Puzzle-Platformer,Exploration,Adve...   \n",
              "1  Free to Play,Indie,Adventure,Horror,2D,Pixel G...   \n",
              "2  Sexual Content,Adventure,Indie,Nudity,Anime,Ma...   \n",
              "3  Action,Indie,Souls-like,Fantasy,Early Access,R...   \n",
              "4  Trading Card Game,Turn-Based Strategy,Lore-Ric...   \n",
              "\n",
              "                                         Screenshots  \\\n",
              "0  https://shared.akamai.steamstatic.com/store_it...   \n",
              "1  https://shared.akamai.steamstatic.com/store_it...   \n",
              "2  https://shared.akamai.steamstatic.com/store_it...   \n",
              "3  https://shared.akamai.steamstatic.com/store_it...   \n",
              "4  https://shared.akamai.steamstatic.com/store_it...   \n",
              "\n",
              "                                              Movies  \n",
              "0  http://video.akamai.steamstatic.com/store_trai...  \n",
              "1  http://video.akamai.steamstatic.com/store_trai...  \n",
              "2  http://video.akamai.steamstatic.com/store_trai...  \n",
              "3  http://video.akamai.steamstatic.com/store_trai...  \n",
              "4  http://video.akamai.steamstatic.com/store_trai...  \n",
              "\n",
              "[5 rows x 39 columns]"
            ],
            "text/html": [
              "\n",
              "  <div id=\"df-6e79f8b0-da36-444a-afce-f0d2e395616f\" class=\"colab-df-container\">\n",
              "    <div>\n",
              "<style scoped>\n",
              "    .dataframe tbody tr th:only-of-type {\n",
              "        vertical-align: middle;\n",
              "    }\n",
              "\n",
              "    .dataframe tbody tr th {\n",
              "        vertical-align: top;\n",
              "    }\n",
              "\n",
              "    .dataframe thead th {\n",
              "        text-align: right;\n",
              "    }\n",
              "</style>\n",
              "<table border=\"1\" class=\"dataframe\">\n",
              "  <thead>\n",
              "    <tr style=\"text-align: right;\">\n",
              "      <th></th>\n",
              "      <th>AppID</th>\n",
              "      <th>Name</th>\n",
              "      <th>Release date</th>\n",
              "      <th>Estimated owners</th>\n",
              "      <th>Peak CCU</th>\n",
              "      <th>Required age</th>\n",
              "      <th>Price</th>\n",
              "      <th>DLC count</th>\n",
              "      <th>About the game</th>\n",
              "      <th>Supported languages</th>\n",
              "      <th>...</th>\n",
              "      <th>Average playtime two weeks</th>\n",
              "      <th>Median playtime forever</th>\n",
              "      <th>Median playtime two weeks</th>\n",
              "      <th>Developers</th>\n",
              "      <th>Publishers</th>\n",
              "      <th>Categories</th>\n",
              "      <th>Genres</th>\n",
              "      <th>Tags</th>\n",
              "      <th>Screenshots</th>\n",
              "      <th>Movies</th>\n",
              "    </tr>\n",
              "  </thead>\n",
              "  <tbody>\n",
              "    <tr>\n",
              "      <th>0</th>\n",
              "      <td>1424640</td>\n",
              "      <td>余烬</td>\n",
              "      <td>Oct 3, 2020</td>\n",
              "      <td>20000 - 50000</td>\n",
              "      <td>0</td>\n",
              "      <td>0</td>\n",
              "      <td>3.99</td>\n",
              "      <td>0</td>\n",
              "      <td>'Ashes of war' is an anti war theme adventure ...</td>\n",
              "      <td>['Simplified Chinese']</td>\n",
              "      <td>...</td>\n",
              "      <td>0</td>\n",
              "      <td>0</td>\n",
              "      <td>0</td>\n",
              "      <td>宁夏华夏西部影视城有限公司</td>\n",
              "      <td>宁夏华夏西部影视城有限公司</td>\n",
              "      <td>Single-player,Family Sharing</td>\n",
              "      <td>Adventure,Casual,Indie,RPG</td>\n",
              "      <td>Sokoban,RPG,Puzzle-Platformer,Exploration,Adve...</td>\n",
              "      <td>https://shared.akamai.steamstatic.com/store_it...</td>\n",
              "      <td>http://video.akamai.steamstatic.com/store_trai...</td>\n",
              "    </tr>\n",
              "    <tr>\n",
              "      <th>1</th>\n",
              "      <td>402890</td>\n",
              "      <td>Nyctophilia</td>\n",
              "      <td>Sep 23, 2015</td>\n",
              "      <td>50000 - 100000</td>\n",
              "      <td>0</td>\n",
              "      <td>0</td>\n",
              "      <td>0.00</td>\n",
              "      <td>0</td>\n",
              "      <td>NYCTOPHILIA Nyctophilia is an 2D psychological...</td>\n",
              "      <td>['English', 'Russian']</td>\n",
              "      <td>...</td>\n",
              "      <td>0</td>\n",
              "      <td>0</td>\n",
              "      <td>0</td>\n",
              "      <td>Cat In A Jar Games</td>\n",
              "      <td>Cat In A Jar Games</td>\n",
              "      <td>Single-player</td>\n",
              "      <td>Adventure,Free To Play,Indie</td>\n",
              "      <td>Free to Play,Indie,Adventure,Horror,2D,Pixel G...</td>\n",
              "      <td>https://shared.akamai.steamstatic.com/store_it...</td>\n",
              "      <td>http://video.akamai.steamstatic.com/store_trai...</td>\n",
              "    </tr>\n",
              "    <tr>\n",
              "      <th>2</th>\n",
              "      <td>1151740</td>\n",
              "      <td>Prison Princess</td>\n",
              "      <td>Apr 2, 2020</td>\n",
              "      <td>0 - 20000</td>\n",
              "      <td>0</td>\n",
              "      <td>0</td>\n",
              "      <td>19.99</td>\n",
              "      <td>0</td>\n",
              "      <td>ABOUT Now nothing more than a phantom, can the...</td>\n",
              "      <td>['English', 'Simplified Chinese', 'Traditional...</td>\n",
              "      <td>...</td>\n",
              "      <td>0</td>\n",
              "      <td>0</td>\n",
              "      <td>0</td>\n",
              "      <td>qureate</td>\n",
              "      <td>qureate</td>\n",
              "      <td>Single-player,Steam Achievements,Full controll...</td>\n",
              "      <td>Adventure,Indie</td>\n",
              "      <td>Sexual Content,Adventure,Indie,Nudity,Anime,Ma...</td>\n",
              "      <td>https://shared.akamai.steamstatic.com/store_it...</td>\n",
              "      <td>http://video.akamai.steamstatic.com/store_trai...</td>\n",
              "    </tr>\n",
              "    <tr>\n",
              "      <th>3</th>\n",
              "      <td>875530</td>\n",
              "      <td>Dead In Time</td>\n",
              "      <td>Oct 12, 2018</td>\n",
              "      <td>0 - 20000</td>\n",
              "      <td>0</td>\n",
              "      <td>0</td>\n",
              "      <td>7.99</td>\n",
              "      <td>0</td>\n",
              "      <td>Is a hardcore action with a non-trivial level ...</td>\n",
              "      <td>['English', 'Russian']</td>\n",
              "      <td>...</td>\n",
              "      <td>0</td>\n",
              "      <td>0</td>\n",
              "      <td>0</td>\n",
              "      <td>Zelenov Artem</td>\n",
              "      <td>Zelenov Artem</td>\n",
              "      <td>Single-player,Full controller support,Family S...</td>\n",
              "      <td>Action,Indie</td>\n",
              "      <td>Action,Indie,Souls-like,Fantasy,Early Access,R...</td>\n",
              "      <td>https://shared.akamai.steamstatic.com/store_it...</td>\n",
              "      <td>http://video.akamai.steamstatic.com/store_trai...</td>\n",
              "    </tr>\n",
              "    <tr>\n",
              "      <th>4</th>\n",
              "      <td>1835360</td>\n",
              "      <td>Panacle: Back To Wild</td>\n",
              "      <td>Mar 11, 2022</td>\n",
              "      <td>0 - 20000</td>\n",
              "      <td>2</td>\n",
              "      <td>0</td>\n",
              "      <td>3.99</td>\n",
              "      <td>0</td>\n",
              "      <td>Panacle: Back to the Wild is a indie card game...</td>\n",
              "      <td>['English', 'Japanese', 'Simplified Chinese', ...</td>\n",
              "      <td>...</td>\n",
              "      <td>0</td>\n",
              "      <td>0</td>\n",
              "      <td>0</td>\n",
              "      <td>渡鸦游戏</td>\n",
              "      <td>渡鸦游戏,电钮组</td>\n",
              "      <td>Single-player,Family Sharing</td>\n",
              "      <td>Indie,Strategy,Early Access</td>\n",
              "      <td>Trading Card Game,Turn-Based Strategy,Lore-Ric...</td>\n",
              "      <td>https://shared.akamai.steamstatic.com/store_it...</td>\n",
              "      <td>http://video.akamai.steamstatic.com/store_trai...</td>\n",
              "    </tr>\n",
              "  </tbody>\n",
              "</table>\n",
              "<p>5 rows × 39 columns</p>\n",
              "</div>\n",
              "    <div class=\"colab-df-buttons\">\n",
              "\n",
              "  <div class=\"colab-df-container\">\n",
              "    <button class=\"colab-df-convert\" onclick=\"convertToInteractive('df-6e79f8b0-da36-444a-afce-f0d2e395616f')\"\n",
              "            title=\"Convert this dataframe to an interactive table.\"\n",
              "            style=\"display:none;\">\n",
              "\n",
              "  <svg xmlns=\"http://www.w3.org/2000/svg\" height=\"24px\" viewBox=\"0 -960 960 960\">\n",
              "    <path d=\"M120-120v-720h720v720H120Zm60-500h600v-160H180v160Zm220 220h160v-160H400v160Zm0 220h160v-160H400v160ZM180-400h160v-160H180v160Zm440 0h160v-160H620v160ZM180-180h160v-160H180v160Zm440 0h160v-160H620v160Z\"/>\n",
              "  </svg>\n",
              "    </button>\n",
              "\n",
              "  <style>\n",
              "    .colab-df-container {\n",
              "      display:flex;\n",
              "      gap: 12px;\n",
              "    }\n",
              "\n",
              "    .colab-df-convert {\n",
              "      background-color: #E8F0FE;\n",
              "      border: none;\n",
              "      border-radius: 50%;\n",
              "      cursor: pointer;\n",
              "      display: none;\n",
              "      fill: #1967D2;\n",
              "      height: 32px;\n",
              "      padding: 0 0 0 0;\n",
              "      width: 32px;\n",
              "    }\n",
              "\n",
              "    .colab-df-convert:hover {\n",
              "      background-color: #E2EBFA;\n",
              "      box-shadow: 0px 1px 2px rgba(60, 64, 67, 0.3), 0px 1px 3px 1px rgba(60, 64, 67, 0.15);\n",
              "      fill: #174EA6;\n",
              "    }\n",
              "\n",
              "    .colab-df-buttons div {\n",
              "      margin-bottom: 4px;\n",
              "    }\n",
              "\n",
              "    [theme=dark] .colab-df-convert {\n",
              "      background-color: #3B4455;\n",
              "      fill: #D2E3FC;\n",
              "    }\n",
              "\n",
              "    [theme=dark] .colab-df-convert:hover {\n",
              "      background-color: #434B5C;\n",
              "      box-shadow: 0px 1px 3px 1px rgba(0, 0, 0, 0.15);\n",
              "      filter: drop-shadow(0px 1px 2px rgba(0, 0, 0, 0.3));\n",
              "      fill: #FFFFFF;\n",
              "    }\n",
              "  </style>\n",
              "\n",
              "    <script>\n",
              "      const buttonEl =\n",
              "        document.querySelector('#df-6e79f8b0-da36-444a-afce-f0d2e395616f button.colab-df-convert');\n",
              "      buttonEl.style.display =\n",
              "        google.colab.kernel.accessAllowed ? 'block' : 'none';\n",
              "\n",
              "      async function convertToInteractive(key) {\n",
              "        const element = document.querySelector('#df-6e79f8b0-da36-444a-afce-f0d2e395616f');\n",
              "        const dataTable =\n",
              "          await google.colab.kernel.invokeFunction('convertToInteractive',\n",
              "                                                    [key], {});\n",
              "        if (!dataTable) return;\n",
              "\n",
              "        const docLinkHtml = 'Like what you see? Visit the ' +\n",
              "          '<a target=\"_blank\" href=https://colab.research.google.com/notebooks/data_table.ipynb>data table notebook</a>'\n",
              "          + ' to learn more about interactive tables.';\n",
              "        element.innerHTML = '';\n",
              "        dataTable['output_type'] = 'display_data';\n",
              "        await google.colab.output.renderOutput(dataTable, element);\n",
              "        const docLink = document.createElement('div');\n",
              "        docLink.innerHTML = docLinkHtml;\n",
              "        element.appendChild(docLink);\n",
              "      }\n",
              "    </script>\n",
              "  </div>\n",
              "\n",
              "\n",
              "    <div id=\"df-044996c3-9be6-4b65-bb90-b48e76f06986\">\n",
              "      <button class=\"colab-df-quickchart\" onclick=\"quickchart('df-044996c3-9be6-4b65-bb90-b48e76f06986')\"\n",
              "                title=\"Suggest charts\"\n",
              "                style=\"display:none;\">\n",
              "\n",
              "<svg xmlns=\"http://www.w3.org/2000/svg\" height=\"24px\"viewBox=\"0 0 24 24\"\n",
              "     width=\"24px\">\n",
              "    <g>\n",
              "        <path d=\"M19 3H5c-1.1 0-2 .9-2 2v14c0 1.1.9 2 2 2h14c1.1 0 2-.9 2-2V5c0-1.1-.9-2-2-2zM9 17H7v-7h2v7zm4 0h-2V7h2v10zm4 0h-2v-4h2v4z\"/>\n",
              "    </g>\n",
              "</svg>\n",
              "      </button>\n",
              "\n",
              "<style>\n",
              "  .colab-df-quickchart {\n",
              "      --bg-color: #E8F0FE;\n",
              "      --fill-color: #1967D2;\n",
              "      --hover-bg-color: #E2EBFA;\n",
              "      --hover-fill-color: #174EA6;\n",
              "      --disabled-fill-color: #AAA;\n",
              "      --disabled-bg-color: #DDD;\n",
              "  }\n",
              "\n",
              "  [theme=dark] .colab-df-quickchart {\n",
              "      --bg-color: #3B4455;\n",
              "      --fill-color: #D2E3FC;\n",
              "      --hover-bg-color: #434B5C;\n",
              "      --hover-fill-color: #FFFFFF;\n",
              "      --disabled-bg-color: #3B4455;\n",
              "      --disabled-fill-color: #666;\n",
              "  }\n",
              "\n",
              "  .colab-df-quickchart {\n",
              "    background-color: var(--bg-color);\n",
              "    border: none;\n",
              "    border-radius: 50%;\n",
              "    cursor: pointer;\n",
              "    display: none;\n",
              "    fill: var(--fill-color);\n",
              "    height: 32px;\n",
              "    padding: 0;\n",
              "    width: 32px;\n",
              "  }\n",
              "\n",
              "  .colab-df-quickchart:hover {\n",
              "    background-color: var(--hover-bg-color);\n",
              "    box-shadow: 0 1px 2px rgba(60, 64, 67, 0.3), 0 1px 3px 1px rgba(60, 64, 67, 0.15);\n",
              "    fill: var(--button-hover-fill-color);\n",
              "  }\n",
              "\n",
              "  .colab-df-quickchart-complete:disabled,\n",
              "  .colab-df-quickchart-complete:disabled:hover {\n",
              "    background-color: var(--disabled-bg-color);\n",
              "    fill: var(--disabled-fill-color);\n",
              "    box-shadow: none;\n",
              "  }\n",
              "\n",
              "  .colab-df-spinner {\n",
              "    border: 2px solid var(--fill-color);\n",
              "    border-color: transparent;\n",
              "    border-bottom-color: var(--fill-color);\n",
              "    animation:\n",
              "      spin 1s steps(1) infinite;\n",
              "  }\n",
              "\n",
              "  @keyframes spin {\n",
              "    0% {\n",
              "      border-color: transparent;\n",
              "      border-bottom-color: var(--fill-color);\n",
              "      border-left-color: var(--fill-color);\n",
              "    }\n",
              "    20% {\n",
              "      border-color: transparent;\n",
              "      border-left-color: var(--fill-color);\n",
              "      border-top-color: var(--fill-color);\n",
              "    }\n",
              "    30% {\n",
              "      border-color: transparent;\n",
              "      border-left-color: var(--fill-color);\n",
              "      border-top-color: var(--fill-color);\n",
              "      border-right-color: var(--fill-color);\n",
              "    }\n",
              "    40% {\n",
              "      border-color: transparent;\n",
              "      border-right-color: var(--fill-color);\n",
              "      border-top-color: var(--fill-color);\n",
              "    }\n",
              "    60% {\n",
              "      border-color: transparent;\n",
              "      border-right-color: var(--fill-color);\n",
              "    }\n",
              "    80% {\n",
              "      border-color: transparent;\n",
              "      border-right-color: var(--fill-color);\n",
              "      border-bottom-color: var(--fill-color);\n",
              "    }\n",
              "    90% {\n",
              "      border-color: transparent;\n",
              "      border-bottom-color: var(--fill-color);\n",
              "    }\n",
              "  }\n",
              "</style>\n",
              "\n",
              "      <script>\n",
              "        async function quickchart(key) {\n",
              "          const quickchartButtonEl =\n",
              "            document.querySelector('#' + key + ' button');\n",
              "          quickchartButtonEl.disabled = true;  // To prevent multiple clicks.\n",
              "          quickchartButtonEl.classList.add('colab-df-spinner');\n",
              "          try {\n",
              "            const charts = await google.colab.kernel.invokeFunction(\n",
              "                'suggestCharts', [key], {});\n",
              "          } catch (error) {\n",
              "            console.error('Error during call to suggestCharts:', error);\n",
              "          }\n",
              "          quickchartButtonEl.classList.remove('colab-df-spinner');\n",
              "          quickchartButtonEl.classList.add('colab-df-quickchart-complete');\n",
              "        }\n",
              "        (() => {\n",
              "          let quickchartButtonEl =\n",
              "            document.querySelector('#df-044996c3-9be6-4b65-bb90-b48e76f06986 button');\n",
              "          quickchartButtonEl.style.display =\n",
              "            google.colab.kernel.accessAllowed ? 'block' : 'none';\n",
              "        })();\n",
              "      </script>\n",
              "    </div>\n",
              "\n",
              "    </div>\n",
              "  </div>\n"
            ],
            "application/vnd.google.colaboratory.intrinsic+json": {
              "type": "dataframe",
              "variable_name": "df"
            }
          },
          "metadata": {},
          "execution_count": 43
        }
      ]
    },
    {
      "cell_type": "code",
      "source": [
        "df.tail()"
      ],
      "metadata": {
        "colab": {
          "base_uri": "https://localhost:8080/",
          "height": 672
        },
        "id": "fNyCzj2o8ZTH",
        "outputId": "4b94ba5f-4980-4b9b-eee4-0dc666ede176"
      },
      "execution_count": 44,
      "outputs": [
        {
          "output_type": "execute_result",
          "data": {
            "text/plain": [
              "         AppID                             Name  Release date  \\\n",
              "93177  2251030  Mutant Monty (C64/CPC/Spectrum)   Jan 5, 2023   \n",
              "93178  1330890                 Crystal Caves HD  Oct 15, 2020   \n",
              "93179  1844230                Malicious ReloadⅡ   Sep 5, 2023   \n",
              "93180  2623690                      Mutant Frog  Jan 27, 2024   \n",
              "93181  2313950                        CRAZY GUY  Mar 20, 2023   \n",
              "\n",
              "      Estimated owners  Peak CCU  Required age  Price  DLC count  \\\n",
              "93177              NaN         0             0   4.99          0   \n",
              "93178              NaN         0             0   7.99          0   \n",
              "93179              NaN         0             0   5.99          0   \n",
              "93180              NaN         0             0   0.99          0   \n",
              "93181              NaN         0             0   9.99          0   \n",
              "\n",
              "                                          About the game  \\\n",
              "93177  Originally released in 1984 for home microcomp...   \n",
              "93178  The best miner in the Galaxy is back! Revisit ...   \n",
              "93179  ★ To ensure that the game you have purchased w...   \n",
              "93180  As a result of an unknown meteorite hitting an...   \n",
              "93181  CRAZY GUY is the story of a space tramp who tr...   \n",
              "\n",
              "                                     Supported languages  ...  \\\n",
              "93177                                        ['English']  ...   \n",
              "93178                                        ['English']  ...   \n",
              "93179  ['Japanese', 'English', 'Simplified Chinese', ...  ...   \n",
              "93180                                        ['English']  ...   \n",
              "93181                             ['English', 'Russian']  ...   \n",
              "\n",
              "      Average playtime two weeks Median playtime forever  \\\n",
              "93177                          0                       0   \n",
              "93178                          0                       0   \n",
              "93179                          0                       0   \n",
              "93180                          0                       0   \n",
              "93181                          0                       0   \n",
              "\n",
              "      Median playtime two weeks        Developers            Publishers  \\\n",
              "93177                         0   Artic Computing        Pixel Games UK   \n",
              "93178                         0  Emberheart Games  Apogee Entertainment   \n",
              "93179                         0        UNDER HILL              Playmeow   \n",
              "93180                         0       Run-O Games           Run-O Games   \n",
              "93181                         0       NIK Studios           NIK Studios   \n",
              "\n",
              "                                              Categories  \\\n",
              "93177  Single-player,Partial Controller Support,Steam...   \n",
              "93178  Single-player,Steam Achievements,Full controll...   \n",
              "93179                       Single-player,Family Sharing   \n",
              "93180                       Single-player,Family Sharing   \n",
              "93181    Single-player,Steam Achievements,Family Sharing   \n",
              "\n",
              "                              Genres  Tags  \\\n",
              "93177                         Action   NaN   \n",
              "93178                         Action   NaN   \n",
              "93179    Action,Adventure,Simulation   NaN   \n",
              "93180  Action,Adventure,Casual,Indie   NaN   \n",
              "93181        Action,Adventure,Casual   NaN   \n",
              "\n",
              "                                             Screenshots  \\\n",
              "93177  https://shared.akamai.steamstatic.com/store_it...   \n",
              "93178  https://shared.akamai.steamstatic.com/store_it...   \n",
              "93179  https://shared.akamai.steamstatic.com/store_it...   \n",
              "93180  https://shared.akamai.steamstatic.com/store_it...   \n",
              "93181  https://shared.akamai.steamstatic.com/store_it...   \n",
              "\n",
              "                                                  Movies  \n",
              "93177  http://video.akamai.steamstatic.com/store_trai...  \n",
              "93178  http://video.akamai.steamstatic.com/store_trai...  \n",
              "93179  http://video.akamai.steamstatic.com/store_trai...  \n",
              "93180  http://video.akamai.steamstatic.com/store_trai...  \n",
              "93181  http://video.akamai.steamstatic.com/store_trai...  \n",
              "\n",
              "[5 rows x 39 columns]"
            ],
            "text/html": [
              "\n",
              "  <div id=\"df-5a636cd3-510d-4827-8c81-c811b12619bf\" class=\"colab-df-container\">\n",
              "    <div>\n",
              "<style scoped>\n",
              "    .dataframe tbody tr th:only-of-type {\n",
              "        vertical-align: middle;\n",
              "    }\n",
              "\n",
              "    .dataframe tbody tr th {\n",
              "        vertical-align: top;\n",
              "    }\n",
              "\n",
              "    .dataframe thead th {\n",
              "        text-align: right;\n",
              "    }\n",
              "</style>\n",
              "<table border=\"1\" class=\"dataframe\">\n",
              "  <thead>\n",
              "    <tr style=\"text-align: right;\">\n",
              "      <th></th>\n",
              "      <th>AppID</th>\n",
              "      <th>Name</th>\n",
              "      <th>Release date</th>\n",
              "      <th>Estimated owners</th>\n",
              "      <th>Peak CCU</th>\n",
              "      <th>Required age</th>\n",
              "      <th>Price</th>\n",
              "      <th>DLC count</th>\n",
              "      <th>About the game</th>\n",
              "      <th>Supported languages</th>\n",
              "      <th>...</th>\n",
              "      <th>Average playtime two weeks</th>\n",
              "      <th>Median playtime forever</th>\n",
              "      <th>Median playtime two weeks</th>\n",
              "      <th>Developers</th>\n",
              "      <th>Publishers</th>\n",
              "      <th>Categories</th>\n",
              "      <th>Genres</th>\n",
              "      <th>Tags</th>\n",
              "      <th>Screenshots</th>\n",
              "      <th>Movies</th>\n",
              "    </tr>\n",
              "  </thead>\n",
              "  <tbody>\n",
              "    <tr>\n",
              "      <th>93177</th>\n",
              "      <td>2251030</td>\n",
              "      <td>Mutant Monty (C64/CPC/Spectrum)</td>\n",
              "      <td>Jan 5, 2023</td>\n",
              "      <td>NaN</td>\n",
              "      <td>0</td>\n",
              "      <td>0</td>\n",
              "      <td>4.99</td>\n",
              "      <td>0</td>\n",
              "      <td>Originally released in 1984 for home microcomp...</td>\n",
              "      <td>['English']</td>\n",
              "      <td>...</td>\n",
              "      <td>0</td>\n",
              "      <td>0</td>\n",
              "      <td>0</td>\n",
              "      <td>Artic Computing</td>\n",
              "      <td>Pixel Games UK</td>\n",
              "      <td>Single-player,Partial Controller Support,Steam...</td>\n",
              "      <td>Action</td>\n",
              "      <td>NaN</td>\n",
              "      <td>https://shared.akamai.steamstatic.com/store_it...</td>\n",
              "      <td>http://video.akamai.steamstatic.com/store_trai...</td>\n",
              "    </tr>\n",
              "    <tr>\n",
              "      <th>93178</th>\n",
              "      <td>1330890</td>\n",
              "      <td>Crystal Caves HD</td>\n",
              "      <td>Oct 15, 2020</td>\n",
              "      <td>NaN</td>\n",
              "      <td>0</td>\n",
              "      <td>0</td>\n",
              "      <td>7.99</td>\n",
              "      <td>0</td>\n",
              "      <td>The best miner in the Galaxy is back! Revisit ...</td>\n",
              "      <td>['English']</td>\n",
              "      <td>...</td>\n",
              "      <td>0</td>\n",
              "      <td>0</td>\n",
              "      <td>0</td>\n",
              "      <td>Emberheart Games</td>\n",
              "      <td>Apogee Entertainment</td>\n",
              "      <td>Single-player,Steam Achievements,Full controll...</td>\n",
              "      <td>Action</td>\n",
              "      <td>NaN</td>\n",
              "      <td>https://shared.akamai.steamstatic.com/store_it...</td>\n",
              "      <td>http://video.akamai.steamstatic.com/store_trai...</td>\n",
              "    </tr>\n",
              "    <tr>\n",
              "      <th>93179</th>\n",
              "      <td>1844230</td>\n",
              "      <td>Malicious ReloadⅡ</td>\n",
              "      <td>Sep 5, 2023</td>\n",
              "      <td>NaN</td>\n",
              "      <td>0</td>\n",
              "      <td>0</td>\n",
              "      <td>5.99</td>\n",
              "      <td>0</td>\n",
              "      <td>★ To ensure that the game you have purchased w...</td>\n",
              "      <td>['Japanese', 'English', 'Simplified Chinese', ...</td>\n",
              "      <td>...</td>\n",
              "      <td>0</td>\n",
              "      <td>0</td>\n",
              "      <td>0</td>\n",
              "      <td>UNDER HILL</td>\n",
              "      <td>Playmeow</td>\n",
              "      <td>Single-player,Family Sharing</td>\n",
              "      <td>Action,Adventure,Simulation</td>\n",
              "      <td>NaN</td>\n",
              "      <td>https://shared.akamai.steamstatic.com/store_it...</td>\n",
              "      <td>http://video.akamai.steamstatic.com/store_trai...</td>\n",
              "    </tr>\n",
              "    <tr>\n",
              "      <th>93180</th>\n",
              "      <td>2623690</td>\n",
              "      <td>Mutant Frog</td>\n",
              "      <td>Jan 27, 2024</td>\n",
              "      <td>NaN</td>\n",
              "      <td>0</td>\n",
              "      <td>0</td>\n",
              "      <td>0.99</td>\n",
              "      <td>0</td>\n",
              "      <td>As a result of an unknown meteorite hitting an...</td>\n",
              "      <td>['English']</td>\n",
              "      <td>...</td>\n",
              "      <td>0</td>\n",
              "      <td>0</td>\n",
              "      <td>0</td>\n",
              "      <td>Run-O Games</td>\n",
              "      <td>Run-O Games</td>\n",
              "      <td>Single-player,Family Sharing</td>\n",
              "      <td>Action,Adventure,Casual,Indie</td>\n",
              "      <td>NaN</td>\n",
              "      <td>https://shared.akamai.steamstatic.com/store_it...</td>\n",
              "      <td>http://video.akamai.steamstatic.com/store_trai...</td>\n",
              "    </tr>\n",
              "    <tr>\n",
              "      <th>93181</th>\n",
              "      <td>2313950</td>\n",
              "      <td>CRAZY GUY</td>\n",
              "      <td>Mar 20, 2023</td>\n",
              "      <td>NaN</td>\n",
              "      <td>0</td>\n",
              "      <td>0</td>\n",
              "      <td>9.99</td>\n",
              "      <td>0</td>\n",
              "      <td>CRAZY GUY is the story of a space tramp who tr...</td>\n",
              "      <td>['English', 'Russian']</td>\n",
              "      <td>...</td>\n",
              "      <td>0</td>\n",
              "      <td>0</td>\n",
              "      <td>0</td>\n",
              "      <td>NIK Studios</td>\n",
              "      <td>NIK Studios</td>\n",
              "      <td>Single-player,Steam Achievements,Family Sharing</td>\n",
              "      <td>Action,Adventure,Casual</td>\n",
              "      <td>NaN</td>\n",
              "      <td>https://shared.akamai.steamstatic.com/store_it...</td>\n",
              "      <td>http://video.akamai.steamstatic.com/store_trai...</td>\n",
              "    </tr>\n",
              "  </tbody>\n",
              "</table>\n",
              "<p>5 rows × 39 columns</p>\n",
              "</div>\n",
              "    <div class=\"colab-df-buttons\">\n",
              "\n",
              "  <div class=\"colab-df-container\">\n",
              "    <button class=\"colab-df-convert\" onclick=\"convertToInteractive('df-5a636cd3-510d-4827-8c81-c811b12619bf')\"\n",
              "            title=\"Convert this dataframe to an interactive table.\"\n",
              "            style=\"display:none;\">\n",
              "\n",
              "  <svg xmlns=\"http://www.w3.org/2000/svg\" height=\"24px\" viewBox=\"0 -960 960 960\">\n",
              "    <path d=\"M120-120v-720h720v720H120Zm60-500h600v-160H180v160Zm220 220h160v-160H400v160Zm0 220h160v-160H400v160ZM180-400h160v-160H180v160Zm440 0h160v-160H620v160ZM180-180h160v-160H180v160Zm440 0h160v-160H620v160Z\"/>\n",
              "  </svg>\n",
              "    </button>\n",
              "\n",
              "  <style>\n",
              "    .colab-df-container {\n",
              "      display:flex;\n",
              "      gap: 12px;\n",
              "    }\n",
              "\n",
              "    .colab-df-convert {\n",
              "      background-color: #E8F0FE;\n",
              "      border: none;\n",
              "      border-radius: 50%;\n",
              "      cursor: pointer;\n",
              "      display: none;\n",
              "      fill: #1967D2;\n",
              "      height: 32px;\n",
              "      padding: 0 0 0 0;\n",
              "      width: 32px;\n",
              "    }\n",
              "\n",
              "    .colab-df-convert:hover {\n",
              "      background-color: #E2EBFA;\n",
              "      box-shadow: 0px 1px 2px rgba(60, 64, 67, 0.3), 0px 1px 3px 1px rgba(60, 64, 67, 0.15);\n",
              "      fill: #174EA6;\n",
              "    }\n",
              "\n",
              "    .colab-df-buttons div {\n",
              "      margin-bottom: 4px;\n",
              "    }\n",
              "\n",
              "    [theme=dark] .colab-df-convert {\n",
              "      background-color: #3B4455;\n",
              "      fill: #D2E3FC;\n",
              "    }\n",
              "\n",
              "    [theme=dark] .colab-df-convert:hover {\n",
              "      background-color: #434B5C;\n",
              "      box-shadow: 0px 1px 3px 1px rgba(0, 0, 0, 0.15);\n",
              "      filter: drop-shadow(0px 1px 2px rgba(0, 0, 0, 0.3));\n",
              "      fill: #FFFFFF;\n",
              "    }\n",
              "  </style>\n",
              "\n",
              "    <script>\n",
              "      const buttonEl =\n",
              "        document.querySelector('#df-5a636cd3-510d-4827-8c81-c811b12619bf button.colab-df-convert');\n",
              "      buttonEl.style.display =\n",
              "        google.colab.kernel.accessAllowed ? 'block' : 'none';\n",
              "\n",
              "      async function convertToInteractive(key) {\n",
              "        const element = document.querySelector('#df-5a636cd3-510d-4827-8c81-c811b12619bf');\n",
              "        const dataTable =\n",
              "          await google.colab.kernel.invokeFunction('convertToInteractive',\n",
              "                                                    [key], {});\n",
              "        if (!dataTable) return;\n",
              "\n",
              "        const docLinkHtml = 'Like what you see? Visit the ' +\n",
              "          '<a target=\"_blank\" href=https://colab.research.google.com/notebooks/data_table.ipynb>data table notebook</a>'\n",
              "          + ' to learn more about interactive tables.';\n",
              "        element.innerHTML = '';\n",
              "        dataTable['output_type'] = 'display_data';\n",
              "        await google.colab.output.renderOutput(dataTable, element);\n",
              "        const docLink = document.createElement('div');\n",
              "        docLink.innerHTML = docLinkHtml;\n",
              "        element.appendChild(docLink);\n",
              "      }\n",
              "    </script>\n",
              "  </div>\n",
              "\n",
              "\n",
              "    <div id=\"df-29189ddb-d437-4524-8859-8709b3e5a4be\">\n",
              "      <button class=\"colab-df-quickchart\" onclick=\"quickchart('df-29189ddb-d437-4524-8859-8709b3e5a4be')\"\n",
              "                title=\"Suggest charts\"\n",
              "                style=\"display:none;\">\n",
              "\n",
              "<svg xmlns=\"http://www.w3.org/2000/svg\" height=\"24px\"viewBox=\"0 0 24 24\"\n",
              "     width=\"24px\">\n",
              "    <g>\n",
              "        <path d=\"M19 3H5c-1.1 0-2 .9-2 2v14c0 1.1.9 2 2 2h14c1.1 0 2-.9 2-2V5c0-1.1-.9-2-2-2zM9 17H7v-7h2v7zm4 0h-2V7h2v10zm4 0h-2v-4h2v4z\"/>\n",
              "    </g>\n",
              "</svg>\n",
              "      </button>\n",
              "\n",
              "<style>\n",
              "  .colab-df-quickchart {\n",
              "      --bg-color: #E8F0FE;\n",
              "      --fill-color: #1967D2;\n",
              "      --hover-bg-color: #E2EBFA;\n",
              "      --hover-fill-color: #174EA6;\n",
              "      --disabled-fill-color: #AAA;\n",
              "      --disabled-bg-color: #DDD;\n",
              "  }\n",
              "\n",
              "  [theme=dark] .colab-df-quickchart {\n",
              "      --bg-color: #3B4455;\n",
              "      --fill-color: #D2E3FC;\n",
              "      --hover-bg-color: #434B5C;\n",
              "      --hover-fill-color: #FFFFFF;\n",
              "      --disabled-bg-color: #3B4455;\n",
              "      --disabled-fill-color: #666;\n",
              "  }\n",
              "\n",
              "  .colab-df-quickchart {\n",
              "    background-color: var(--bg-color);\n",
              "    border: none;\n",
              "    border-radius: 50%;\n",
              "    cursor: pointer;\n",
              "    display: none;\n",
              "    fill: var(--fill-color);\n",
              "    height: 32px;\n",
              "    padding: 0;\n",
              "    width: 32px;\n",
              "  }\n",
              "\n",
              "  .colab-df-quickchart:hover {\n",
              "    background-color: var(--hover-bg-color);\n",
              "    box-shadow: 0 1px 2px rgba(60, 64, 67, 0.3), 0 1px 3px 1px rgba(60, 64, 67, 0.15);\n",
              "    fill: var(--button-hover-fill-color);\n",
              "  }\n",
              "\n",
              "  .colab-df-quickchart-complete:disabled,\n",
              "  .colab-df-quickchart-complete:disabled:hover {\n",
              "    background-color: var(--disabled-bg-color);\n",
              "    fill: var(--disabled-fill-color);\n",
              "    box-shadow: none;\n",
              "  }\n",
              "\n",
              "  .colab-df-spinner {\n",
              "    border: 2px solid var(--fill-color);\n",
              "    border-color: transparent;\n",
              "    border-bottom-color: var(--fill-color);\n",
              "    animation:\n",
              "      spin 1s steps(1) infinite;\n",
              "  }\n",
              "\n",
              "  @keyframes spin {\n",
              "    0% {\n",
              "      border-color: transparent;\n",
              "      border-bottom-color: var(--fill-color);\n",
              "      border-left-color: var(--fill-color);\n",
              "    }\n",
              "    20% {\n",
              "      border-color: transparent;\n",
              "      border-left-color: var(--fill-color);\n",
              "      border-top-color: var(--fill-color);\n",
              "    }\n",
              "    30% {\n",
              "      border-color: transparent;\n",
              "      border-left-color: var(--fill-color);\n",
              "      border-top-color: var(--fill-color);\n",
              "      border-right-color: var(--fill-color);\n",
              "    }\n",
              "    40% {\n",
              "      border-color: transparent;\n",
              "      border-right-color: var(--fill-color);\n",
              "      border-top-color: var(--fill-color);\n",
              "    }\n",
              "    60% {\n",
              "      border-color: transparent;\n",
              "      border-right-color: var(--fill-color);\n",
              "    }\n",
              "    80% {\n",
              "      border-color: transparent;\n",
              "      border-right-color: var(--fill-color);\n",
              "      border-bottom-color: var(--fill-color);\n",
              "    }\n",
              "    90% {\n",
              "      border-color: transparent;\n",
              "      border-bottom-color: var(--fill-color);\n",
              "    }\n",
              "  }\n",
              "</style>\n",
              "\n",
              "      <script>\n",
              "        async function quickchart(key) {\n",
              "          const quickchartButtonEl =\n",
              "            document.querySelector('#' + key + ' button');\n",
              "          quickchartButtonEl.disabled = true;  // To prevent multiple clicks.\n",
              "          quickchartButtonEl.classList.add('colab-df-spinner');\n",
              "          try {\n",
              "            const charts = await google.colab.kernel.invokeFunction(\n",
              "                'suggestCharts', [key], {});\n",
              "          } catch (error) {\n",
              "            console.error('Error during call to suggestCharts:', error);\n",
              "          }\n",
              "          quickchartButtonEl.classList.remove('colab-df-spinner');\n",
              "          quickchartButtonEl.classList.add('colab-df-quickchart-complete');\n",
              "        }\n",
              "        (() => {\n",
              "          let quickchartButtonEl =\n",
              "            document.querySelector('#df-29189ddb-d437-4524-8859-8709b3e5a4be button');\n",
              "          quickchartButtonEl.style.display =\n",
              "            google.colab.kernel.accessAllowed ? 'block' : 'none';\n",
              "        })();\n",
              "      </script>\n",
              "    </div>\n",
              "\n",
              "    </div>\n",
              "  </div>\n"
            ],
            "application/vnd.google.colaboratory.intrinsic+json": {
              "type": "dataframe"
            }
          },
          "metadata": {},
          "execution_count": 44
        }
      ]
    },
    {
      "cell_type": "code",
      "source": [],
      "metadata": {
        "id": "4a7or3zV8ZNW"
      },
      "execution_count": null,
      "outputs": []
    },
    {
      "cell_type": "code",
      "source": [],
      "metadata": {
        "id": "jDREez088ZIn"
      },
      "execution_count": null,
      "outputs": []
    },
    {
      "cell_type": "code",
      "source": [],
      "metadata": {
        "id": "VDFHHPem8ZBj"
      },
      "execution_count": null,
      "outputs": []
    },
    {
      "cell_type": "markdown",
      "source": [
        "## Exploratory Analysis / Visualization"
      ],
      "metadata": {
        "id": "0Js3p51UpqZB"
      }
    },
    {
      "cell_type": "markdown",
      "source": [
        "**TODO: (300-600 words) Explain what you're looking for in the data to help you understand how to use it to answer your question or otherwise meet your project goals. Then, explain what steps you took to explore the dataset, including code that implements these explorations. Finally, comment on the results of your exploration and identify how it shaped the latter steps of your project. You may want to use additional text and code cells to intersperse elements of your report with code that computes supporting statistics and visualizations.**"
      ],
      "metadata": {
        "id": "UXGk0R4f6yvy"
      }
    },
    {
      "cell_type": "code",
      "source": [
        "# Analyze\n",
        "\n",
        "# TODO: add code to perform exploratory analysis or visualize\n",
        "# elements of your dataset."
      ],
      "metadata": {
        "id": "8GobH4uoppZq"
      },
      "execution_count": null,
      "outputs": []
    },
    {
      "cell_type": "markdown",
      "source": [
        "## Data Cleaning and Rescaling"
      ],
      "metadata": {
        "id": "-MWcKVqWphxp"
      }
    },
    {
      "cell_type": "markdown",
      "source": [
        "**TODO: (300 - 600 words) This section will include both \"cleaning\" and \"rescaling\" tasks from the data science pipeline in section 1.1.7. Intersperse text and code cells outlining each inidividual \"cleaning\" or \"rescaling\" task. The text cell should explain what is being done and why it is necessary and the code cell should implement the step.**"
      ],
      "metadata": {
        "id": "ctQjhfJ_7MP_"
      }
    },
    {
      "cell_type": "code",
      "source": [
        "# Data Cleaning and Rescaling\n",
        "\n",
        "# TODO: add code that integrates, filters, or otherwise updates data to make it\n",
        "# more suitable for analysis in later steps."
      ],
      "metadata": {
        "id": "8Z616DRcqQEu"
      },
      "execution_count": null,
      "outputs": []
    },
    {
      "cell_type": "markdown",
      "source": [
        "## Training / Test Split"
      ],
      "metadata": {
        "id": "EJlwJ1TMp4HZ"
      }
    },
    {
      "cell_type": "markdown",
      "source": [
        "**TODO: (200-600 words) explain the methodology you select for forming your training/test sets and why it's applicable to the problem.**"
      ],
      "metadata": {
        "id": "Fok0t0Og8ArO"
      }
    },
    {
      "cell_type": "code",
      "source": [
        "# Create training / test sets\n",
        "\n",
        "# TODO: create variables holding all training, validation, and testing data\n",
        "# you'll use in the model building step"
      ],
      "metadata": {
        "id": "GUiF7RzZqRL4"
      },
      "execution_count": null,
      "outputs": []
    },
    {
      "cell_type": "markdown",
      "source": [
        "## Model Building"
      ],
      "metadata": {
        "id": "sLRlYSF8p-L8"
      }
    },
    {
      "cell_type": "markdown",
      "source": [
        "**TODO: (200-600 words) Explain the choice of model or models for this project, from where and how you integrated libraries to develop these models, and the process of building the models. If model creation needs to be interspersed with model testing (such as with leave-one-out testing), develop code here that will be used to generate models. Include all code for loading libraries for developing models and include functions or other simplifying abstractions that will make the testing phase easier.**"
      ],
      "metadata": {
        "id": "mUG0kt0W9P71"
      }
    },
    {
      "cell_type": "code",
      "source": [
        "# Model Building\n",
        "\n",
        "# TODO: Train ML models over data from the prior step and prepare the model\n",
        "# to be tested in the next step."
      ],
      "metadata": {
        "id": "WAaK6OsQqRyG"
      },
      "execution_count": null,
      "outputs": []
    },
    {
      "cell_type": "markdown",
      "source": [
        "## Model Testing"
      ],
      "metadata": {
        "id": "gPNaQIPLqAbN"
      }
    },
    {
      "cell_type": "markdown",
      "source": [
        "**TODO: (25-300 words) Explain any deviations from original testing plan or special circumstances you had to develop code to overcome for this phase.**"
      ],
      "metadata": {
        "id": "MxvrLK0v-GKZ"
      }
    },
    {
      "cell_type": "code",
      "source": [
        "# Model Testing\n",
        "\n",
        "# Implement the testing plan explained two sections ago"
      ],
      "metadata": {
        "id": "Ei8M0WRbqSUs"
      },
      "execution_count": null,
      "outputs": []
    },
    {
      "cell_type": "markdown",
      "source": [
        "## Results"
      ],
      "metadata": {
        "id": "pi7nerOVqFm8"
      }
    },
    {
      "cell_type": "markdown",
      "source": [
        "**TODO: (200 - 600 words) Explain the signifigance and meaning of the results from the model testing phase. You may want to copy and intersperse code blocks developing different values / visualizations from the results with multiple text cells explaining them.**"
      ],
      "metadata": {
        "id": "zrb2GKsv8_Rn"
      }
    },
    {
      "cell_type": "code",
      "source": [
        "# Results\n",
        "\n",
        "# Evaluate and visualize results from model testing."
      ],
      "metadata": {
        "id": "k-PBu2NjqT32"
      },
      "execution_count": null,
      "outputs": []
    },
    {
      "cell_type": "markdown",
      "source": [
        "## Conclusions / Lessons Learned"
      ],
      "metadata": {
        "id": "g4zz1640pkqK"
      }
    },
    {
      "cell_type": "markdown",
      "source": [
        "**TODO: (500 - 1000 words) Explain how your experiments led to either additional context, a full answer, or anything in between in relation to the question you posed for your project. Expand with other lessons learned, both in terms of the project topic, data science, and new tools or skills you've gained.**"
      ],
      "metadata": {
        "id": "F_ZBGWoP7msY"
      }
    }
  ]
}